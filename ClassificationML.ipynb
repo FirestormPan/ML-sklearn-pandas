{
  "nbformat": 4,
  "nbformat_minor": 0,
  "metadata": {
    "colab": {
      "provenance": []
    },
    "kernelspec": {
      "name": "python3",
      "display_name": "Python 3"
    },
    "language_info": {
      "name": "python"
    }
  },
  "cells": [
    {
      "cell_type": "code",
      "execution_count": null,
      "metadata": {
        "id": "h5-swxJq81ML"
      },
      "outputs": [],
      "source": [
        "import pandas as pd\n",
        "import numpy as np"
      ]
    },
    {
      "cell_type": "code",
      "source": [
        "#1 get the spreadsheet as csv\n",
        "sheet_url = \"https://docs.google.com/spreadsheets/d/1SzGbo-WC_7bDELulpgKF1g1aDnlWdeKL/edit#gid=969564807\"\n",
        "url_1 = sheet_url.replace('/edit#gid=', '/export?format=csv&gid=')\n",
        "\n",
        "df = pd.read_csv(url_1)\n",
        "df"
      ],
      "metadata": {
        "colab": {
          "base_uri": "https://localhost:8080/",
          "height": 519
        },
        "id": "xvg8hfCPGPec",
        "outputId": "e42fcf68-37f8-4346-d725-2eff52e06b98"
      },
      "execution_count": null,
      "outputs": [
        {
          "output_type": "execute_result",
          "data": {
            "text/plain": [
              "       365* ( Β.Υ / Κοστ.Πωλ )  Λειτ.Αποτ/Συν.Ενεργ. (ROA)  \\\n",
              "0                  1014.128862                    0.011751   \n",
              "1                   561.974631                    0.099662   \n",
              "2                   826.919025                    0.009594   \n",
              "3                   493.176956                    0.196284   \n",
              "4                   100.421465                    0.179038   \n",
              "...                        ...                         ...   \n",
              "10711               129.571104                    0.046147   \n",
              "10712              1112.742613                    0.032630   \n",
              "10713              1194.250878                   -0.172327   \n",
              "10714              1500.000000                   -0.073754   \n",
              "10715              1500.000000                   -0.052115   \n",
              "\n",
              "       ΧΡΗΜ.ΔΑΠΑΝΕΣ / ΠΩΛΗΣΕΙΣ  \\\n",
              "0                     0.038505   \n",
              "1                     0.015775   \n",
              "2                     0.093562   \n",
              "3                     0.000581   \n",
              "4                     0.000173   \n",
              "...                        ...   \n",
              "10711                 0.000000   \n",
              "10712                 0.134262   \n",
              "10713                 0.200000   \n",
              "10714                 0.200000   \n",
              "10715                 0.200000   \n",
              "\n",
              "        ΠΡΑΓΜΑΤΙΚΗ ΡΕΥΣΤΟΤΗΤΑ :  (ΚΕ-ΑΠΟΘΕΜΑΤΑ) / Β.Υ  (ΑΠΑΙΤ.*365) / ΠΩΛ.  \\\n",
              "0                                            0.965479           567.866550   \n",
              "1                                            1.415467           335.917481   \n",
              "2                                            1.575034           350.618086   \n",
              "3                                            1.346780           414.508709   \n",
              "4                                            3.299687           118.548381   \n",
              "...                                               ...                  ...   \n",
              "10711                                        1.260416             0.380702   \n",
              "10712                                        0.664461             1.319013   \n",
              "10713                                        0.572939             1.872967   \n",
              "10714                                        0.715888            16.158480   \n",
              "10715                                        1.072936            34.691370   \n",
              "\n",
              "       Συν.Υποχρ/Συν.Ενεργ  Διάρκεια Παραμονής Αποθεμάτων  \\\n",
              "0                 0.532258                     545.195964   \n",
              "1                 0.660556                       7.950910   \n",
              "2                 0.550912                      28.602221   \n",
              "3                 0.683717                       1.216888   \n",
              "4                 0.254496                      52.346321   \n",
              "...                    ...                            ...   \n",
              "10711             0.726776                       1.724963   \n",
              "10712             1.151101                      12.379601   \n",
              "10713             1.030767                     422.327531   \n",
              "10714             1.000224                    1290.137484   \n",
              "10715             0.889729                    1169.619893   \n",
              "\n",
              "       Λογαριθμος Προσωπικού  ΕΝΔΕΙΞΗ ΕΞΑΓΩΓΩΝ  ΕΝΔΕΙΞΗ ΕΙΣΑΓΩΓΩΝ  \\\n",
              "0                   0.301030                 0                  1   \n",
              "1                   1.176091                 1                  1   \n",
              "2                   1.204120                 0                  1   \n",
              "3                   1.431364                 0                  0   \n",
              "4                   1.518514                 0                  1   \n",
              "...                      ...               ...                ...   \n",
              "10711               0.000000                 1                  0   \n",
              "10712               0.000000                 0                  0   \n",
              "10713               1.146128                 0                  1   \n",
              "10714               1.079181                 1                  1   \n",
              "10715               0.698970                 0                  1   \n",
              "\n",
              "       ΕΝΔΕΙΞΗ ΑΝΤΙΠΡΟΣΩΠΕΙΩΝ  ΕΝΔΕΙΞΗ ΑΣΥΝΕΠΕΙΑΣ (=2) (ν+1)  ΕΤΟΣ  \n",
              "0                           0                              1  2006  \n",
              "1                           1                              1  2006  \n",
              "2                           1                              1  2006  \n",
              "3                           0                              1  2006  \n",
              "4                           1                              1  2006  \n",
              "...                       ...                            ...   ...  \n",
              "10711                       0                              2  2009  \n",
              "10712                       0                              2  2009  \n",
              "10713                       0                              2  2009  \n",
              "10714                       0                              2  2009  \n",
              "10715                       1                              2  2009  \n",
              "\n",
              "[10716 rows x 13 columns]"
            ],
            "text/html": [
              "\n",
              "  <div id=\"df-ec7b2f41-c028-4dc4-b7bc-345f8f8391f2\">\n",
              "    <div class=\"colab-df-container\">\n",
              "      <div>\n",
              "<style scoped>\n",
              "    .dataframe tbody tr th:only-of-type {\n",
              "        vertical-align: middle;\n",
              "    }\n",
              "\n",
              "    .dataframe tbody tr th {\n",
              "        vertical-align: top;\n",
              "    }\n",
              "\n",
              "    .dataframe thead th {\n",
              "        text-align: right;\n",
              "    }\n",
              "</style>\n",
              "<table border=\"1\" class=\"dataframe\">\n",
              "  <thead>\n",
              "    <tr style=\"text-align: right;\">\n",
              "      <th></th>\n",
              "      <th>365* ( Β.Υ / Κοστ.Πωλ )</th>\n",
              "      <th>Λειτ.Αποτ/Συν.Ενεργ. (ROA)</th>\n",
              "      <th>ΧΡΗΜ.ΔΑΠΑΝΕΣ / ΠΩΛΗΣΕΙΣ</th>\n",
              "      <th>ΠΡΑΓΜΑΤΙΚΗ ΡΕΥΣΤΟΤΗΤΑ :  (ΚΕ-ΑΠΟΘΕΜΑΤΑ) / Β.Υ</th>\n",
              "      <th>(ΑΠΑΙΤ.*365) / ΠΩΛ.</th>\n",
              "      <th>Συν.Υποχρ/Συν.Ενεργ</th>\n",
              "      <th>Διάρκεια Παραμονής Αποθεμάτων</th>\n",
              "      <th>Λογαριθμος Προσωπικού</th>\n",
              "      <th>ΕΝΔΕΙΞΗ ΕΞΑΓΩΓΩΝ</th>\n",
              "      <th>ΕΝΔΕΙΞΗ ΕΙΣΑΓΩΓΩΝ</th>\n",
              "      <th>ΕΝΔΕΙΞΗ ΑΝΤΙΠΡΟΣΩΠΕΙΩΝ</th>\n",
              "      <th>ΕΝΔΕΙΞΗ ΑΣΥΝΕΠΕΙΑΣ (=2) (ν+1)</th>\n",
              "      <th>ΕΤΟΣ</th>\n",
              "    </tr>\n",
              "  </thead>\n",
              "  <tbody>\n",
              "    <tr>\n",
              "      <th>0</th>\n",
              "      <td>1014.128862</td>\n",
              "      <td>0.011751</td>\n",
              "      <td>0.038505</td>\n",
              "      <td>0.965479</td>\n",
              "      <td>567.866550</td>\n",
              "      <td>0.532258</td>\n",
              "      <td>545.195964</td>\n",
              "      <td>0.301030</td>\n",
              "      <td>0</td>\n",
              "      <td>1</td>\n",
              "      <td>0</td>\n",
              "      <td>1</td>\n",
              "      <td>2006</td>\n",
              "    </tr>\n",
              "    <tr>\n",
              "      <th>1</th>\n",
              "      <td>561.974631</td>\n",
              "      <td>0.099662</td>\n",
              "      <td>0.015775</td>\n",
              "      <td>1.415467</td>\n",
              "      <td>335.917481</td>\n",
              "      <td>0.660556</td>\n",
              "      <td>7.950910</td>\n",
              "      <td>1.176091</td>\n",
              "      <td>1</td>\n",
              "      <td>1</td>\n",
              "      <td>1</td>\n",
              "      <td>1</td>\n",
              "      <td>2006</td>\n",
              "    </tr>\n",
              "    <tr>\n",
              "      <th>2</th>\n",
              "      <td>826.919025</td>\n",
              "      <td>0.009594</td>\n",
              "      <td>0.093562</td>\n",
              "      <td>1.575034</td>\n",
              "      <td>350.618086</td>\n",
              "      <td>0.550912</td>\n",
              "      <td>28.602221</td>\n",
              "      <td>1.204120</td>\n",
              "      <td>0</td>\n",
              "      <td>1</td>\n",
              "      <td>1</td>\n",
              "      <td>1</td>\n",
              "      <td>2006</td>\n",
              "    </tr>\n",
              "    <tr>\n",
              "      <th>3</th>\n",
              "      <td>493.176956</td>\n",
              "      <td>0.196284</td>\n",
              "      <td>0.000581</td>\n",
              "      <td>1.346780</td>\n",
              "      <td>414.508709</td>\n",
              "      <td>0.683717</td>\n",
              "      <td>1.216888</td>\n",
              "      <td>1.431364</td>\n",
              "      <td>0</td>\n",
              "      <td>0</td>\n",
              "      <td>0</td>\n",
              "      <td>1</td>\n",
              "      <td>2006</td>\n",
              "    </tr>\n",
              "    <tr>\n",
              "      <th>4</th>\n",
              "      <td>100.421465</td>\n",
              "      <td>0.179038</td>\n",
              "      <td>0.000173</td>\n",
              "      <td>3.299687</td>\n",
              "      <td>118.548381</td>\n",
              "      <td>0.254496</td>\n",
              "      <td>52.346321</td>\n",
              "      <td>1.518514</td>\n",
              "      <td>0</td>\n",
              "      <td>1</td>\n",
              "      <td>1</td>\n",
              "      <td>1</td>\n",
              "      <td>2006</td>\n",
              "    </tr>\n",
              "    <tr>\n",
              "      <th>...</th>\n",
              "      <td>...</td>\n",
              "      <td>...</td>\n",
              "      <td>...</td>\n",
              "      <td>...</td>\n",
              "      <td>...</td>\n",
              "      <td>...</td>\n",
              "      <td>...</td>\n",
              "      <td>...</td>\n",
              "      <td>...</td>\n",
              "      <td>...</td>\n",
              "      <td>...</td>\n",
              "      <td>...</td>\n",
              "      <td>...</td>\n",
              "    </tr>\n",
              "    <tr>\n",
              "      <th>10711</th>\n",
              "      <td>129.571104</td>\n",
              "      <td>0.046147</td>\n",
              "      <td>0.000000</td>\n",
              "      <td>1.260416</td>\n",
              "      <td>0.380702</td>\n",
              "      <td>0.726776</td>\n",
              "      <td>1.724963</td>\n",
              "      <td>0.000000</td>\n",
              "      <td>1</td>\n",
              "      <td>0</td>\n",
              "      <td>0</td>\n",
              "      <td>2</td>\n",
              "      <td>2009</td>\n",
              "    </tr>\n",
              "    <tr>\n",
              "      <th>10712</th>\n",
              "      <td>1112.742613</td>\n",
              "      <td>0.032630</td>\n",
              "      <td>0.134262</td>\n",
              "      <td>0.664461</td>\n",
              "      <td>1.319013</td>\n",
              "      <td>1.151101</td>\n",
              "      <td>12.379601</td>\n",
              "      <td>0.000000</td>\n",
              "      <td>0</td>\n",
              "      <td>0</td>\n",
              "      <td>0</td>\n",
              "      <td>2</td>\n",
              "      <td>2009</td>\n",
              "    </tr>\n",
              "    <tr>\n",
              "      <th>10713</th>\n",
              "      <td>1194.250878</td>\n",
              "      <td>-0.172327</td>\n",
              "      <td>0.200000</td>\n",
              "      <td>0.572939</td>\n",
              "      <td>1.872967</td>\n",
              "      <td>1.030767</td>\n",
              "      <td>422.327531</td>\n",
              "      <td>1.146128</td>\n",
              "      <td>0</td>\n",
              "      <td>1</td>\n",
              "      <td>0</td>\n",
              "      <td>2</td>\n",
              "      <td>2009</td>\n",
              "    </tr>\n",
              "    <tr>\n",
              "      <th>10714</th>\n",
              "      <td>1500.000000</td>\n",
              "      <td>-0.073754</td>\n",
              "      <td>0.200000</td>\n",
              "      <td>0.715888</td>\n",
              "      <td>16.158480</td>\n",
              "      <td>1.000224</td>\n",
              "      <td>1290.137484</td>\n",
              "      <td>1.079181</td>\n",
              "      <td>1</td>\n",
              "      <td>1</td>\n",
              "      <td>0</td>\n",
              "      <td>2</td>\n",
              "      <td>2009</td>\n",
              "    </tr>\n",
              "    <tr>\n",
              "      <th>10715</th>\n",
              "      <td>1500.000000</td>\n",
              "      <td>-0.052115</td>\n",
              "      <td>0.200000</td>\n",
              "      <td>1.072936</td>\n",
              "      <td>34.691370</td>\n",
              "      <td>0.889729</td>\n",
              "      <td>1169.619893</td>\n",
              "      <td>0.698970</td>\n",
              "      <td>0</td>\n",
              "      <td>1</td>\n",
              "      <td>1</td>\n",
              "      <td>2</td>\n",
              "      <td>2009</td>\n",
              "    </tr>\n",
              "  </tbody>\n",
              "</table>\n",
              "<p>10716 rows × 13 columns</p>\n",
              "</div>\n",
              "      <button class=\"colab-df-convert\" onclick=\"convertToInteractive('df-ec7b2f41-c028-4dc4-b7bc-345f8f8391f2')\"\n",
              "              title=\"Convert this dataframe to an interactive table.\"\n",
              "              style=\"display:none;\">\n",
              "        \n",
              "  <svg xmlns=\"http://www.w3.org/2000/svg\" height=\"24px\"viewBox=\"0 0 24 24\"\n",
              "       width=\"24px\">\n",
              "    <path d=\"M0 0h24v24H0V0z\" fill=\"none\"/>\n",
              "    <path d=\"M18.56 5.44l.94 2.06.94-2.06 2.06-.94-2.06-.94-.94-2.06-.94 2.06-2.06.94zm-11 1L8.5 8.5l.94-2.06 2.06-.94-2.06-.94L8.5 2.5l-.94 2.06-2.06.94zm10 10l.94 2.06.94-2.06 2.06-.94-2.06-.94-.94-2.06-.94 2.06-2.06.94z\"/><path d=\"M17.41 7.96l-1.37-1.37c-.4-.4-.92-.59-1.43-.59-.52 0-1.04.2-1.43.59L10.3 9.45l-7.72 7.72c-.78.78-.78 2.05 0 2.83L4 21.41c.39.39.9.59 1.41.59.51 0 1.02-.2 1.41-.59l7.78-7.78 2.81-2.81c.8-.78.8-2.07 0-2.86zM5.41 20L4 18.59l7.72-7.72 1.47 1.35L5.41 20z\"/>\n",
              "  </svg>\n",
              "      </button>\n",
              "      \n",
              "  <style>\n",
              "    .colab-df-container {\n",
              "      display:flex;\n",
              "      flex-wrap:wrap;\n",
              "      gap: 12px;\n",
              "    }\n",
              "\n",
              "    .colab-df-convert {\n",
              "      background-color: #E8F0FE;\n",
              "      border: none;\n",
              "      border-radius: 50%;\n",
              "      cursor: pointer;\n",
              "      display: none;\n",
              "      fill: #1967D2;\n",
              "      height: 32px;\n",
              "      padding: 0 0 0 0;\n",
              "      width: 32px;\n",
              "    }\n",
              "\n",
              "    .colab-df-convert:hover {\n",
              "      background-color: #E2EBFA;\n",
              "      box-shadow: 0px 1px 2px rgba(60, 64, 67, 0.3), 0px 1px 3px 1px rgba(60, 64, 67, 0.15);\n",
              "      fill: #174EA6;\n",
              "    }\n",
              "\n",
              "    [theme=dark] .colab-df-convert {\n",
              "      background-color: #3B4455;\n",
              "      fill: #D2E3FC;\n",
              "    }\n",
              "\n",
              "    [theme=dark] .colab-df-convert:hover {\n",
              "      background-color: #434B5C;\n",
              "      box-shadow: 0px 1px 3px 1px rgba(0, 0, 0, 0.15);\n",
              "      filter: drop-shadow(0px 1px 2px rgba(0, 0, 0, 0.3));\n",
              "      fill: #FFFFFF;\n",
              "    }\n",
              "  </style>\n",
              "\n",
              "      <script>\n",
              "        const buttonEl =\n",
              "          document.querySelector('#df-ec7b2f41-c028-4dc4-b7bc-345f8f8391f2 button.colab-df-convert');\n",
              "        buttonEl.style.display =\n",
              "          google.colab.kernel.accessAllowed ? 'block' : 'none';\n",
              "\n",
              "        async function convertToInteractive(key) {\n",
              "          const element = document.querySelector('#df-ec7b2f41-c028-4dc4-b7bc-345f8f8391f2');\n",
              "          const dataTable =\n",
              "            await google.colab.kernel.invokeFunction('convertToInteractive',\n",
              "                                                     [key], {});\n",
              "          if (!dataTable) return;\n",
              "\n",
              "          const docLinkHtml = 'Like what you see? Visit the ' +\n",
              "            '<a target=\"_blank\" href=https://colab.research.google.com/notebooks/data_table.ipynb>data table notebook</a>'\n",
              "            + ' to learn more about interactive tables.';\n",
              "          element.innerHTML = '';\n",
              "          dataTable['output_type'] = 'display_data';\n",
              "          await google.colab.output.renderOutput(dataTable, element);\n",
              "          const docLink = document.createElement('div');\n",
              "          docLink.innerHTML = docLinkHtml;\n",
              "          element.appendChild(docLink);\n",
              "        }\n",
              "      </script>\n",
              "    </div>\n",
              "  </div>\n",
              "  "
            ]
          },
          "metadata": {},
          "execution_count": 43
        }
      ]
    },
    {
      "cell_type": "code",
      "source": [
        "#2 \n",
        "df.columns = [\"A\", \"B\", \"C\", \"D\", \"E\", \"F\", \"G\", \"H\", \"I\", \"J\", \"K\", \"L\", \"M\"]"
      ],
      "metadata": {
        "id": "yH-NpvxsGoDo"
      },
      "execution_count": null,
      "outputs": []
    },
    {
      "cell_type": "code",
      "source": [
        "#2a\n",
        "print(\"Healthy Companies:\" , len(df[df.L == 1]) )\n",
        "print(\"Buncrapt Companies:\" , len(df[df.L == 2]) )"
      ],
      "metadata": {
        "colab": {
          "base_uri": "https://localhost:8080/"
        },
        "id": "ykZ36aDm61Wy",
        "outputId": "d747a57d-f1cf-40fc-c94b-d4c6dfdb8c4d"
      },
      "execution_count": null,
      "outputs": [
        {
          "output_type": "stream",
          "name": "stdout",
          "text": [
            "Healthy Companies: 10468\n",
            "Buncrapt Companies: 248\n"
          ]
        }
      ]
    },
    {
      "cell_type": "code",
      "source": [
        "#2b\n",
        "i=0;\n",
        "while(i<13):\n",
        "  column = df.iloc[:, i]\n",
        "  #print(column.min())\n",
        "  meeeeen =column.mean()\n",
        "  print(\"column Number :\" , i , \"min: \" , column.min() , \", max: \", column.max(), \", average: \",meeeeen )\n",
        "  i=i+1"
      ],
      "metadata": {
        "id": "-pUbPwUi8Q7v",
        "colab": {
          "base_uri": "https://localhost:8080/"
        },
        "outputId": "45d969e4-ed4c-4dea-9ee8-b2ea6b1ea404"
      },
      "execution_count": null,
      "outputs": [
        {
          "output_type": "stream",
          "name": "stdout",
          "text": [
            "column Number : 0 min:  0.654350115 , max:  1500.0 , average:  446.39949601004577\n",
            "column Number : 1 min:  -0.6 , max:  0.5 , average:  0.03748406276591079\n",
            "column Number : 2 min:  0.0 , max:  0.2 , average:  0.028929499967633818\n",
            "column Number : 3 min:  0.000660847 , max:  5.0 , average:  1.1422515008177492\n",
            "column Number : 4 min:  0.0 , max:  1200.0 , average:  213.4480228317994\n",
            "column Number : 5 min:  0.000412336 , max:  1.67 , average:  0.7440751763199889\n",
            "column Number : 6 min:  0.0 , max:  1332.105492 , average:  108.84301812459577\n",
            "column Number : 7 min:  0.0 , max:  2.92992956 , average:  1.0209484458742069\n",
            "column Number : 8 min:  0 , max:  1 , average:  0.38391190742814485\n",
            "column Number : 9 min:  0 , max:  1 , average:  0.7307764091078761\n",
            "column Number : 10 min:  0 , max:  1 , average:  0.35526315789473684\n",
            "column Number : 11 min:  1 , max:  2 , average:  1.0231429637924598\n",
            "column Number : 12 min:  2006 , max:  2009 , average:  2007.410974244121\n"
          ]
        }
      ]
    },
    {
      "cell_type": "code",
      "source": [
        "#3\n",
        "dfScaled = df.copy()"
      ],
      "metadata": {
        "id": "t3xQS0aI9MM5"
      },
      "execution_count": null,
      "outputs": []
    },
    {
      "cell_type": "code",
      "source": [
        "# for column in dfScaled.iloc[:,0:7].columns:  \n",
        "for column in dfScaled.loc[:, dfScaled.columns != 'L']:  ####Isws alagh se na ta pairnei ola(kai thn L)\n",
        " dfScaled[column] = (dfScaled[column]-dfScaled[column].min())/(dfScaled[column].max()-dfScaled[column].min())\n",
        "\n",
        "# dfScaled[column] = (dfScaled[column]-dfScaled[column].min())/(dfScaled[column].max()-dfScaled[column].min())"
      ],
      "metadata": {
        "id": "yzKSMLi_9M74"
      },
      "execution_count": null,
      "outputs": []
    },
    {
      "cell_type": "code",
      "source": [
        "from sklearn.model_selection import train_test_split\n",
        "inputData_train, inputData_test, outputData_train, outputData_test = train_test_split(dfScaled.loc[:, dfScaled.columns != 'L'], df.L, test_size=0.1)\n"
      ],
      "metadata": {
        "id": "eV696XcMNYjk"
      },
      "execution_count": null,
      "outputs": []
    },
    {
      "cell_type": "code",
      "source": [
        "# from sklearn.model_selection import train_test_split\n",
        "# trainDF, testDF = train_test_split(df, test_size=0.1)\n",
        "\n",
        "# inputData_train = trainDF.loc[:, trainDF.columns != 'L']\n",
        "# outputData_train = trainDF.loc[:,\"L\"]\n",
        "# inputData_test = testDF.loc[:, testDF.columns != 'L']\n",
        "# outputData_test = testDF.loc[:,\"L\"]"
      ],
      "metadata": {
        "id": "A-y7R2ZhBWsj"
      },
      "execution_count": null,
      "outputs": []
    },
    {
      "cell_type": "code",
      "source": [
        "#4\n",
        "print(\"Healthy Companies: train-set: \" ,sum(outputData_train==1)  , \", test-set:\",sum(outputData_test==1) )\n",
        "print(\"Bankrupt Companies: train-set:\" ,sum(outputData_train==2)  , \", test-set:\",sum(outputData_test==2) )"
      ],
      "metadata": {
        "colab": {
          "base_uri": "https://localhost:8080/"
        },
        "outputId": "0d2ee393-c0e4-42b2-991a-46f83fab3cd3",
        "id": "v2L67-uxNhw3"
      },
      "execution_count": null,
      "outputs": [
        {
          "output_type": "stream",
          "name": "stdout",
          "text": [
            "Healthy Companies: train-set:  9417 , test-set: 1051\n",
            "Bankrupt Companies: train-set: 227 , test-set: 21\n"
          ]
        }
      ]
    },
    {
      "cell_type": "code",
      "source": [
        "# #4\n",
        "# print(\"Healthy Companies: train-set: \" ,len(trainDF[trainDF.L == 1])  , \", test-set:\",len(testDF[testDF.L == 1]) )\n",
        "# print(\"Bankrupt Companies: train-set:\" ,len(trainDF[trainDF.L == 2])  , \", test-set:\",len(testDF[testDF.L == 2]) )"
      ],
      "metadata": {
        "id": "W_x_5UsN9nnL"
      },
      "execution_count": null,
      "outputs": []
    },
    {
      "cell_type": "code",
      "source": [
        "print('.. we have',dfScaled.shape[0],'paradigms' )\n",
        "print('.. each paradigm has',dfScaled.shape[1],'features' )"
      ],
      "metadata": {
        "colab": {
          "base_uri": "https://localhost:8080/"
        },
        "id": "2dYuMR4nKLxv",
        "outputId": "d1f430d1-bdb8-4375-8247-1d72f08d01b8"
      },
      "execution_count": null,
      "outputs": [
        {
          "output_type": "stream",
          "name": "stdout",
          "text": [
            ".. we have 10716 paradigms\n",
            ".. each paradigm has 13 features\n"
          ]
        }
      ]
    },
    {
      "cell_type": "code",
      "source": [
        "#5 General\n",
        "from sklearn.metrics import accuracy_score, precision_score, recall_score, f1_score\n",
        "from sklearn.metrics import confusion_matrix\n",
        "import matplotlib.pyplot as plt\n",
        "import seaborn as sns #funcier plots for confusion matrix\n",
        "\n",
        "def funcy_cf_plot(cf_matrix, class_names):\n",
        "  #keep two decimals\n",
        "  group_counts = [\"{0:0.0f}\".format(value) for value in\n",
        "                cf_matrix.flatten()]\n",
        "  group_percentages = [\"{0:.2%}\".format(value) for value in\n",
        "                      cf_matrix.flatten()/np.sum(cf_matrix)]\n",
        "\n",
        "  labels = [f\"{v1}\\n{v2}\\n\" for v1, v2 in\n",
        "            zip(group_counts,group_percentages)]\n",
        "\n",
        "  labels = np.asarray(labels).reshape(2,2)\n",
        "\n",
        "  ax = sns.heatmap(cf_matrix, annot=labels, fmt='', cmap='Blues')\n",
        "\n",
        "  ax.set_title('Seaborn Confusion Matrix with labels\\n\\n');\n",
        "  ax.set_xlabel('\\nPredicted Category')\n",
        "  ax.set_ylabel('Actual Category ');\n",
        "\n",
        "  ## Ticket labels - List must be in alphabetical order\n",
        "  ax.xaxis.set_ticklabels(class_names)\n",
        "  ax.yaxis.set_ticklabels(class_names)\n",
        "\n",
        "  ## Display the visualization of the Confusion Matrix.\n",
        "  plt.show()"
      ],
      "metadata": {
        "id": "JK2vBiKKJpgl"
      },
      "execution_count": null,
      "outputs": []
    },
    {
      "cell_type": "code",
      "source": [
        "#DecisionTreeClassifier\n",
        "from sklearn.tree import DecisionTreeClassifier\n",
        "\n",
        "#intiate the classifier\n",
        "dTclf = DecisionTreeClassifier()\n",
        "\n",
        "#train the classifier\n",
        "dTclf.fit(inputData_train, outputData_train)\n",
        "\n",
        "#use the trained classifier to estimate the outputs \n",
        "dt_predicted_output_values_train = dTclf.predict(inputData_train)\n",
        "dt_predicted_output_values_test = dTclf.predict(inputData_test)\n",
        "\n"
      ],
      "metadata": {
        "id": "ghDUNOpCPTYa"
      },
      "execution_count": null,
      "outputs": []
    },
    {
      "cell_type": "code",
      "source": [
        "# confusion matrix TRAIN\n",
        "dTcf_matrix_train = confusion_matrix(outputData_train, dt_predicted_output_values_train)\n",
        "funcy_cf_plot(dTcf_matrix_train, ['Healthy', 'Failed'])\n",
        "\n",
        "#DecisionTreeClassifier Train scores\n",
        "dtacc_train = accuracy_score(outputData_train,dt_predicted_output_values_train)\n",
        "dtpre_train = precision_score(outputData_train,dt_predicted_output_values_train, average='macro')\n",
        "dtrec_train = recall_score(outputData_train,dt_predicted_output_values_train, average='macro')\n",
        "dtf1_train =f1_score(outputData_train,dt_predicted_output_values_train, average='macro')\n",
        "\n",
        "print(\"accuracy:\",dtacc_train, \",  precision:\" , dtpre_train, \",  recall:\",dtrec_train,\",  f1Score:\", dtf1_train )"
      ],
      "metadata": {
        "colab": {
          "base_uri": "https://localhost:8080/",
          "height": 354
        },
        "id": "HjPeAoA-0ZSo",
        "outputId": "1bf41570-3e01-4d87-ed4e-f4126853592a"
      },
      "execution_count": null,
      "outputs": [
        {
          "output_type": "display_data",
          "data": {
            "text/plain": [
              "<Figure size 432x288 with 2 Axes>"
            ],
            "image/png": "[encoded data removed]"
          },
          "metadata": {
            "needs_background": "light"
          }
        },
        {
          "output_type": "stream",
          "name": "stdout",
          "text": [
            "accuracy: 1.0 ,  precision: 1.0 ,  recall: 1.0 ,  f1Score: 1.0\n"
          ]
        }
      ]
    },
    {
      "cell_type": "code",
      "source": [
        "# confusion matrix TEST\n",
        "dTcf_matrix_test = confusion_matrix(outputData_test, dt_predicted_output_values_test)\n",
        "funcy_cf_plot(dTcf_matrix_test, ['Healthy', 'Failed'])\n",
        "\n",
        "\n",
        "#DecisionTreeClassifier Test scores\n",
        "dtacc_test = accuracy_score(outputData_test,dt_predicted_output_values_test)\n",
        "dtpre_test = precision_score(outputData_test,dt_predicted_output_values_test, average='macro')\n",
        "dtrec_test = recall_score(outputData_test,dt_predicted_output_values_test, average='macro')\n",
        "dtf1_test =f1_score(outputData_test,dt_predicted_output_values_test, average='macro')\n",
        "\n",
        "print(\"accuracy:\",dtacc_test, \",  precision:\" , dtpre_test, \",  recall:\",dtrec_test,\",  f1Score:\", dtf1_test )"
      ],
      "metadata": {
        "id": "kwohUCvTQltJ",
        "colab": {
          "base_uri": "https://localhost:8080/",
          "height": 354
        },
        "outputId": "a25a7267-96db-4b19-b8af-722bd2b4bcd7"
      },
      "execution_count": null,
      "outputs": [
        {
          "output_type": "display_data",
          "data": {
            "text/plain": [
              "<Figure size 432x288 with 2 Axes>"
            ],
            "image/png": "[encoded data removed]"
          },
          "metadata": {
            "needs_background": "light"
          }
        },
        {
          "output_type": "stream",
          "name": "stdout",
          "text": [
            "accuracy: 0.960820895522388 ,  precision: 0.546943115364168 ,  recall: 0.5600108739975533 ,  f1Score: 0.5524809160305344\n"
          ]
        }
      ]
    },
    {
      "cell_type": "code",
      "source": [
        "#KNeighborsClassifier\n",
        "from sklearn.neighbors import KNeighborsClassifier\n",
        "\n",
        "#intiate the classifier\n",
        "knnclf = KNeighborsClassifier(3, weights='distance', algorithm='auto')\n",
        "\n",
        "#train the classifier\n",
        "knnclf.fit(inputData_train, outputData_train)\n",
        "\n",
        "#use the trained classifier to estimate the outputs \n",
        "knn_predicted_output_values_train = knnclf.predict(inputData_train)\n",
        "knn_predicted_output_values_test = knnclf.predict(inputData_test)\n",
        "\n",
        "# for value in knn_predicted_output_values_train:\n",
        "#   print(value)"
      ],
      "metadata": {
        "id": "ecMktp9UjLbh"
      },
      "execution_count": null,
      "outputs": []
    },
    {
      "cell_type": "code",
      "source": [
        "# confusion matrix TRAIN\n",
        "knncf_matrix_train = confusion_matrix(outputData_train, knn_predicted_output_values_train)\n",
        "funcy_cf_plot(knncf_matrix_train, ['Healthy', 'Failed'])\n",
        "\n",
        "#KNeighborsClassifier Train scores\n",
        "knn_acc_train = accuracy_score(outputData_train,knn_predicted_output_values_train)\n",
        "knn_pre_train = precision_score(outputData_train,knn_predicted_output_values_train, average='macro')\n",
        "knn_rec_train = recall_score(outputData_train,knn_predicted_output_values_train, average='macro')\n",
        "knn_f1_train =f1_score(outputData_train,knn_predicted_output_values_train, average='macro')\n",
        "\n",
        "print(\"accuracy:\",knn_acc_train, \",  precision:\" , knn_pre_train, \",  recall:\",knn_rec_train,\",  f1Score:\", knn_f1_train )"
      ],
      "metadata": {
        "id": "DeUXp5LujWBq",
        "colab": {
          "base_uri": "https://localhost:8080/",
          "height": 354
        },
        "outputId": "3a1a85e1-0324-41a6-b407-cf9d21a4c644"
      },
      "execution_count": null,
      "outputs": [
        {
          "output_type": "display_data",
          "data": {
            "text/plain": [
              "<Figure size 432x288 with 2 Axes>"
            ],
            "image/png": "[encoded data removed]"
          },
          "metadata": {
            "needs_background": "light"
          }
        },
        {
          "output_type": "stream",
          "name": "stdout",
          "text": [
            "accuracy: 1.0 ,  precision: 1.0 ,  recall: 1.0 ,  f1Score: 1.0\n"
          ]
        }
      ]
    },
    {
      "cell_type": "code",
      "source": [
        "# confusion matrix TEST\n",
        "knncf_matrix_test = confusion_matrix(outputData_test, knn_predicted_output_values_test)\n",
        "funcy_cf_plot(knncf_matrix_test, ['Healthy', 'Failed'])\n",
        "#KNeighborsClassifier scores TEST\n",
        "knn_acc_test = accuracy_score(outputData_test,knn_predicted_output_values_test)\n",
        "knn_pre_test = precision_score(outputData_test,knn_predicted_output_values_test,average='macro', zero_division=1)\n",
        "knn_rec_test = recall_score(outputData_test,knn_predicted_output_values_test,average='macro')\n",
        "knn_f1_test = f1_score(outputData_test,knn_predicted_output_values_test,average='macro')\n",
        "\n",
        "print(\"accuracy:\",knn_acc_test, \",  precision:\" , knn_pre_test, \",  recall:\",knn_rec_test,\",  f1Score:\", knn_f1_test )"
      ],
      "metadata": {
        "colab": {
          "base_uri": "https://localhost:8080/",
          "height": 354
        },
        "id": "GlijNefu0_nR",
        "outputId": "3dbf5e20-1baa-49c2-f6ce-594fef299692"
      },
      "execution_count": null,
      "outputs": [
        {
          "output_type": "display_data",
          "data": {
            "text/plain": [
              "<Figure size 432x288 with 2 Axes>"
            ],
            "image/png": "[encoded data removed]"
          },
          "metadata": {
            "needs_background": "light"
          }
        },
        {
          "output_type": "stream",
          "name": "stdout",
          "text": [
            "accuracy: 0.976679104477612 ,  precision: 0.5739524702939337 ,  recall: 0.5214308368447284 ,  f1Score: 0.5311324550814395\n"
          ]
        }
      ]
    },
    {
      "cell_type": "code",
      "source": [
        "#Support Vector machine Classifier \n",
        "from sklearn.svm import SVC\n",
        "#intiate the classifier\n",
        "svcclf = SVC(C=32.0,kernel='poly',degree=5,class_weight='balanced') \n",
        "#train the classifier\n",
        "svcclf.fit(inputData_train, outputData_train)\n",
        "\n",
        "#use the trained classifier to estimate the outputs \n",
        "svc_predicted_output_values_train = svcclf.predict(inputData_train)\n",
        "svc_predicted_output_values_test = svcclf.predict(inputData_test)"
      ],
      "metadata": {
        "id": "XxwoesW_mgYa"
      },
      "execution_count": null,
      "outputs": []
    },
    {
      "cell_type": "code",
      "source": [
        "# confusion matrix TRAIN\n",
        "SVMcf_matrix_train = confusion_matrix(outputData_train, svc_predicted_output_values_train)\n",
        "funcy_cf_plot(SVMcf_matrix_train, ['Healthy', 'Failed'])\n",
        "\n",
        "#KNeighborsClassifier Train scores\n",
        "SVMacc_train = accuracy_score(outputData_train,svc_predicted_output_values_train)\n",
        "SVMpre_train = precision_score(outputData_train,svc_predicted_output_values_train, average='macro')\n",
        "SVMrec_train = recall_score(outputData_train,svc_predicted_output_values_train, average='macro')\n",
        "SVMf1_train =f1_score(outputData_train,svc_predicted_output_values_train, average='macro')\n",
        "\n",
        "print(\"accuracy:\",SVMacc_train, \",  precision:\" , SVMpre_train, \",  recall:\",SVMrec_train,\",  f1Score:\", SVMf1_train )"
      ],
      "metadata": {
        "colab": {
          "base_uri": "https://localhost:8080/",
          "height": 354
        },
        "id": "193ScL5JZKHt",
        "outputId": "7d9c6103-45e4-494e-8c00-d29aac69bccc"
      },
      "execution_count": null,
      "outputs": [
        {
          "output_type": "display_data",
          "data": {
            "text/plain": [
              "<Figure size 432x288 with 2 Axes>"
            ],
            "image/png": "[encoded data removed]"
          },
          "metadata": {
            "needs_background": "light"
          }
        },
        {
          "output_type": "stream",
          "name": "stdout",
          "text": [
            "accuracy: 0.9219203649937785 ,  precision: 0.6148167226789254 ,  recall: 0.9535704712491562 ,  f1Score: 0.6656951849021707\n"
          ]
        }
      ]
    },
    {
      "cell_type": "code",
      "source": [
        "# confusion matrix TEST\n",
        "SVMcf_matrix_test = confusion_matrix(outputData_test, svc_predicted_output_values_test)\n",
        "funcy_cf_plot(SVMcf_matrix_test, ['Healthy', 'Failed'])\n",
        "\n",
        "#Support Vector machine TEST scores\n",
        "svc_acc_test = accuracy_score(outputData_test,svc_predicted_output_values_test )\n",
        "svc_pre_test = precision_score(outputData_test,svc_predicted_output_values_test, average='macro',zero_division=1 )\n",
        "svc_rec_test = recall_score(outputData_test,svc_predicted_output_values_test, average='macro' )\n",
        "svc_f1_test =f1_score(outputData_test,svc_predicted_output_values_test, average='macro' )\n",
        "\n",
        "print(\"accuracy:\",svc_acc_test, \",  precision:\" , svc_pre_test, \",  recall:\",svc_rec_test,\",  f1Score:\", svc_f1_test )"
      ],
      "metadata": {
        "id": "5-KSwsSWExcD",
        "colab": {
          "base_uri": "https://localhost:8080/",
          "height": 354
        },
        "outputId": "1ac153c3-48a7-4f69-8bc6-b934b5a5b274"
      },
      "execution_count": null,
      "outputs": [
        {
          "output_type": "display_data",
          "data": {
            "text/plain": [
              "<Figure size 432x288 with 2 Axes>"
            ],
            "image/png": "[encoded data removed]"
          },
          "metadata": {
            "needs_background": "light"
          }
        },
        {
          "output_type": "stream",
          "name": "stdout",
          "text": [
            "accuracy: 0.9076492537313433 ,  precision: 0.5309006211180125 ,  recall: 0.6262289882651443 ,  f1Score: 0.5375746722265069\n"
          ]
        }
      ]
    },
    {
      "cell_type": "code",
      "source": [
        "#Gaussian Naive Bayess\n",
        "from sklearn.naive_bayes import GaussianNB\n",
        "\n",
        "cnbclf = GaussianNB()\n",
        "\n",
        "cnbclf.fit(inputData_train, outputData_train)\n",
        "\n",
        "cnb_predicted_output_values_train = cnbclf.predict(inputData_train)\n",
        "cnb_predicted_output_values_test = cnbclf.predict(inputData_test)"
      ],
      "metadata": {
        "id": "_wBYp6qRPqdC"
      },
      "execution_count": null,
      "outputs": []
    },
    {
      "cell_type": "code",
      "source": [
        "# confusion matrix TRAIN\n",
        "cnbcf_matrix_train = confusion_matrix(outputData_train, cnb_predicted_output_values_train)\n",
        "funcy_cf_plot(cnbcf_matrix_train, ['Healthy', 'Failed'])\n",
        "\n",
        "#Gaussian Naive Bayess Train scores\n",
        "cnb_acc_train = accuracy_score(outputData_train,cnb_predicted_output_values_train)\n",
        "cnb_pre_train = precision_score(outputData_train,cnb_predicted_output_values_train, average='macro')\n",
        "cnb_rec_train = recall_score(outputData_train,cnb_predicted_output_values_train, average='macro')\n",
        "cnb_f1_train =f1_score(outputData_train,cnb_predicted_output_values_train, average='macro')\n",
        "\n",
        "print(\"accuracy:\",cnb_acc_train, \",  precision:\" , cnb_pre_train, \",  recall:\",cnb_rec_train,\",  f1Score:\", cnb_f1_train )"
      ],
      "metadata": {
        "colab": {
          "base_uri": "https://localhost:8080/",
          "height": 354
        },
        "id": "jOJE9akHbKWj",
        "outputId": "e109ea19-d041-4781-c099-c6802320fa43"
      },
      "execution_count": null,
      "outputs": [
        {
          "output_type": "display_data",
          "data": {
            "text/plain": [
              "<Figure size 432x288 with 2 Axes>"
            ],
            "image/png": "[encoded data removed]"
          },
          "metadata": {
            "needs_background": "light"
          }
        },
        {
          "output_type": "stream",
          "name": "stdout",
          "text": [
            "accuracy: 0.9266901700539195 ,  precision: 0.5356170737386746 ,  recall: 0.5884402049157513 ,  f1Score: 0.5460566870891983\n"
          ]
        }
      ]
    },
    {
      "cell_type": "code",
      "source": [
        "# confusion matrix TEST\n",
        "cnbcf_matrix_test = confusion_matrix(outputData_test, cnb_predicted_output_values_test)\n",
        "funcy_cf_plot(cnbcf_matrix_test, ['Healthy', 'Failed'])\n",
        "\n",
        "#Gaussian Naive Bayess TEST scores\n",
        "cnb_acc_test = accuracy_score(outputData_test,cnb_predicted_output_values_test )\n",
        "cnb_pre_test = precision_score(outputData_test,cnb_predicted_output_values_test, average='macro',zero_division=1 )\n",
        "cnb_rec_test = recall_score(outputData_test,cnb_predicted_output_values_test, average='macro' )\n",
        "cnb_f1_test =f1_score(outputData_test,cnb_predicted_output_values_test, average='macro' )\n",
        "\n",
        "print(\"accuracy:\",cnb_acc_test, \",  precision:\" , cnb_pre_test, \",  recall:\",cnb_rec_test,\",  f1Score:\", cnb_f1_test )"
      ],
      "metadata": {
        "id": "i_aHunxee86H",
        "colab": {
          "base_uri": "https://localhost:8080/",
          "height": 354
        },
        "outputId": "f1b25fec-b199-4036-d2a6-3ab83a9ccc9b"
      },
      "execution_count": null,
      "outputs": [
        {
          "output_type": "display_data",
          "data": {
            "text/plain": [
              "<Figure size 432x288 with 2 Axes>"
            ],
            "image/png": "[encoded data removed]"
          },
          "metadata": {
            "needs_background": "light"
          }
        },
        {
          "output_type": "stream",
          "name": "stdout",
          "text": [
            "accuracy: 0.9281716417910447 ,  precision: 0.5547987867627147 ,  recall: 0.6833627837433737 ,  f1Score: 0.575947188615756\n"
          ]
        }
      ]
    },
    {
      "cell_type": "code",
      "source": [
        "# 8\n",
        "# Train data\n",
        "dt_tp_train = dTcf_matrix_train.flatten()[0]\n",
        "dt_fp_train = dTcf_matrix_train.flatten()[1]\n",
        "dt_fn_train = dTcf_matrix_train.flatten()[2]\n",
        "dt_tn_train = dTcf_matrix_train.flatten()[3]\n",
        "\n",
        "knn_tp_train = knncf_matrix_train.flatten()[0]\n",
        "knn_fp_train = knncf_matrix_train.flatten()[1]\n",
        "knn_fn_train = knncf_matrix_train.flatten()[2]\n",
        "knn_tn_train = knncf_matrix_train.flatten()[3]\n",
        "\n",
        "cnb_tp_train = cnbcf_matrix_train.flatten()[0]\n",
        "cnb_fp_train = cnbcf_matrix_train.flatten()[1]\n",
        "cnb_fn_train = cnbcf_matrix_train.flatten()[2]\n",
        "cnb_tn_train = cnbcf_matrix_train.flatten()[3]\n",
        "\n",
        "svc_tp_train = SVMcf_matrix_train.flatten()[0]\n",
        "svc_fp_train = SVMcf_matrix_train.flatten()[1]\n",
        "svc_fn_train = SVMcf_matrix_train.flatten()[2]\n",
        "svc_tn_train = SVMcf_matrix_train.flatten()[3]"
      ],
      "metadata": {
        "id": "Uox0AsLhvulq"
      },
      "execution_count": null,
      "outputs": []
    },
    {
      "cell_type": "code",
      "source": [
        "# Test data\n",
        "dt_tp_test = dTcf_matrix_test.flatten()[0]\n",
        "dt_fp_test = dTcf_matrix_test.flatten()[1]\n",
        "dt_fn_test = dTcf_matrix_test.flatten()[2]\n",
        "dt_tn_test = dTcf_matrix_test.flatten()[3]\n",
        "\n",
        "knn_tp_test = knncf_matrix_test.flatten()[0]\n",
        "knn_fp_test = knncf_matrix_test.flatten()[1]\n",
        "knn_fn_test = knncf_matrix_test.flatten()[2]\n",
        "knn_tn_test = knncf_matrix_test.flatten()[3]\n",
        "\n",
        "cnb_tp_test = cnbcf_matrix_test.flatten()[0]\n",
        "cnb_fp_test= cnbcf_matrix_test.flatten()[1]\n",
        "cnb_fn_test = cnbcf_matrix_test.flatten()[2]\n",
        "cnb_tn_test = cnbcf_matrix_test.flatten()[3]\n",
        "\n",
        "svc_tp_test = SVMcf_matrix_test.flatten()[0]\n",
        "svc_fp_test = SVMcf_matrix_test.flatten()[1]\n",
        "svc_fn_test = SVMcf_matrix_test.flatten()[2]\n",
        "svc_tn_test = SVMcf_matrix_test.flatten()[3]"
      ],
      "metadata": {
        "id": "SxLcenIdbExU"
      },
      "execution_count": null,
      "outputs": []
    },
    {
      "cell_type": "code",
      "source": [
        "clfnm = [\"Decision Trees\",\"Decision Trees\",\"K-nearest neighbours\",\"K-nearest neighbours\",\"Gaussian Naive-Bayes\",\"Gaussian Naive-Bayes\",\"Support Vector Classifier\",\"Support Vector Classifier\"]\n",
        "trnOrTst = [\"Test\",\"Train\",\"Test\",\"Train\",\"Test\",\"Train\",\"Test\",\"Train\"]\n",
        "numOfTrnSamples = [inputData_train.shape[0],inputData_train.shape[0],inputData_train.shape[0],inputData_train.shape[0],inputData_train.shape[0],inputData_train.shape[0],inputData_train.shape[0],inputData_train.shape[0]]\n",
        "numOfNonHealthyCmpnsTrnSet = [sum(outputData_train==2),sum(outputData_train==2),sum(outputData_train==2),sum(outputData_train==2),sum(outputData_train==2),sum(outputData_train==2),sum(outputData_train==2),sum(outputData_train==2)]\n",
        "tp = [dt_tp_test, dt_tp_train, knn_tp_test, knn_tp_train, cnb_tp_test, cnb_tp_train, svc_tp_test, svc_tp_train]\n",
        "tn = [dt_tn_test, dt_tn_train, knn_tn_test, knn_tn_train, cnb_tn_test, cnb_tn_train, svc_tn_test, svc_tn_train]\n",
        "fp = [dt_fp_test, dt_fp_train, knn_fp_test, knn_fp_train, cnb_fp_test, cnb_fp_train, svc_fp_test, svc_fp_train]\n",
        "fn = [dt_fn_test, dt_fn_train, knn_fn_test, knn_fn_train, cnb_fn_test, cnb_fn_train, svc_fn_test, svc_fn_train]\n",
        "pre = [dtpre_test, dtpre_train, knn_pre_test, knn_pre_train, cnb_pre_test, cnb_pre_train, svc_pre_test, SVMpre_train]\n",
        "rec = [dtrec_test, dtrec_train, knn_rec_test, knn_rec_train, cnb_rec_test, cnb_rec_train, svc_rec_test, SVMpre_train]\n",
        "f1 = [dtf1_test, dtf1_train, knn_f1_test, knn_f1_train, cnb_f1_test, cnb_f1_train, svc_f1_test, SVMf1_train]\n",
        "acc = [dtacc_test, dtacc_train, knn_acc_test, knn_acc_train, cnb_acc_test, cnb_acc_train, svc_acc_test, SVMacc_train]\n",
        "\n",
        "dict = {'Classifier Name':clfnm, 'Training or test set':trnOrTst,\\\n",
        "        'Number of training samples':numOfTrnSamples,\\\n",
        "        'Number of non-healthy companies in training sample':numOfNonHealthyCmpnsTrnSet,\\\n",
        "        'TP':tp,'TN':tn,'FP':fp,'FN':fn,'Precision':pre,'Recall':rec,\\\n",
        "        'F1 score':f1,'Accuracy':acc}\n"
      ],
      "metadata": {
        "id": "BdvDWqrVwU_q"
      },
      "execution_count": null,
      "outputs": []
    },
    {
      "cell_type": "code",
      "source": [
        "\n",
        "dfNew = pd.DataFrame(dict)"
      ],
      "metadata": {
        "id": "CpBJUtDOx_WS"
      },
      "execution_count": null,
      "outputs": []
    },
    {
      "cell_type": "code",
      "source": [
        "from google.colab import drive\n",
        "drive.mount('/content/drive')"
      ],
      "metadata": {
        "colab": {
          "base_uri": "https://localhost:8080/"
        },
        "id": "eRcLfF7GzbS6",
        "outputId": "d0205fef-c5de-4325-fed8-df5bfc0677ef"
      },
      "execution_count": null,
      "outputs": [
        {
          "output_type": "stream",
          "name": "stdout",
          "text": [
            "Drive already mounted at /content/drive; to attempt to forcibly remount, call drive.mount(\"/content/drive\", force_remount=True).\n"
          ]
        }
      ]
    },
    {
      "cell_type": "code",
      "source": [
        "path = '/content/drive/My Drive/ResultsFinal.csv'\n",
        "with open(path, 'w', encoding = 'utf-8-sig') as f:\n",
        "  dfNew.to_csv(f, index = False)"
      ],
      "metadata": {
        "id": "inq7HurN089L"
      },
      "execution_count": null,
      "outputs": []
    }
  ]
}